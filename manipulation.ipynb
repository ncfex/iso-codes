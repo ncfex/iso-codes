{
 "cells": [
  {
   "cell_type": "code",
   "execution_count": 13,
   "metadata": {},
   "outputs": [],
   "source": [
    "# general\n",
    "\n",
    "import json\n",
    "import os\n",
    "\n",
    "data_dir = \"data\"\n",
    "\n",
    "output_dir = \"output\"\n",
    "\n",
    "if not os.path.exists(output_dir):\n",
    "    os.makedirs(output_dir)"
   ]
  },
  {
   "cell_type": "code",
   "execution_count": 2,
   "metadata": {},
   "outputs": [],
   "source": [
    "# Countries\n",
    "\n",
    "input_filename = 'countries.json'"
   ]
  },
  {
   "cell_type": "code",
   "execution_count": 7,
   "metadata": {},
   "outputs": [],
   "source": [
    "# Currency codes\n",
    "\n",
    "input_filename = 'currency_codes.json'"
   ]
  },
  {
   "cell_type": "code",
   "execution_count": 14,
   "metadata": {},
   "outputs": [],
   "source": [
    "# Countries with new mappings\n",
    "\n",
    "data_dir = 'output'\n",
    "input_filename = '3166-1_to_4217.json'"
   ]
  },
  {
   "cell_type": "code",
   "execution_count": 15,
   "metadata": {},
   "outputs": [],
   "source": [
    "# general\n",
    "\n",
    "input_file = os.path.join(data_dir, input_filename)"
   ]
  },
  {
   "cell_type": "code",
   "execution_count": 16,
   "metadata": {},
   "outputs": [],
   "source": [
    "# general\n",
    "\n",
    "with open(input_file, \"r\") as f:\n",
    "    data = json.load(f)"
   ]
  },
  {
   "cell_type": "code",
   "execution_count": 5,
   "metadata": {},
   "outputs": [],
   "source": [
    "# Rename and remove variables\n",
    "\n",
    "countries = data[\"countries\"][\"country\"]\n",
    "\n",
    "output_filename = \"3166-1_to_4217\"\n",
    "\n",
    "key_mapping = {\n",
    "    \"countryCode\": \"3166-1_alpha_2\",\n",
    "    \"countryName\": \"3166-1_name\",\n",
    "    \"currencyCode\": \"4217_alpha_3\"\n",
    "}\n",
    "\n",
    "filtered_countries = [{key_mapping.get(key, key): value for key, value in country.items() if key not in {\"capital\", \"continentName\", \"population\"}} for country in countries]\n",
    "\n",
    "output_data = {\"countries\": filtered_countries}"
   ]
  },
  {
   "cell_type": "code",
   "execution_count": 10,
   "metadata": {},
   "outputs": [],
   "source": [
    "# Construct new data structure\n",
    "\n",
    "currency_codes = data[\"4217\"]\n",
    "\n",
    "output_data = {\"4217\": {}}\n",
    "\n",
    "for currency in currency_codes:\n",
    "    alpha_3 = currency[\"alpha_3\"]\n",
    "    output_data[\"4217\"][alpha_3] = currency\n",
    "\n",
    "output_filename = \"currency_code_mappings\""
   ]
  },
  {
   "cell_type": "code",
   "execution_count": 17,
   "metadata": {},
   "outputs": [
    {
     "ename": "KeyError",
     "evalue": "'4217'",
     "output_type": "error",
     "traceback": [
      "\u001b[0;31m---------------------------------------------------------------------------\u001b[0m",
      "\u001b[0;31mKeyError\u001b[0m                                  Traceback (most recent call last)",
      "Cell \u001b[0;32mIn[17], line 10\u001b[0m\n\u001b[1;32m      8\u001b[0m \u001b[38;5;28;01mfor\u001b[39;00m country \u001b[38;5;129;01min\u001b[39;00m countries:\n\u001b[1;32m      9\u001b[0m     alpha_3 \u001b[38;5;241m=\u001b[39m country[\u001b[38;5;124m\"\u001b[39m\u001b[38;5;124m3166-1_alpha_2\u001b[39m\u001b[38;5;124m\"\u001b[39m]\n\u001b[0;32m---> 10\u001b[0m     \u001b[43moutput_data\u001b[49m\u001b[43m[\u001b[49m\u001b[38;5;124;43m\"\u001b[39;49m\u001b[38;5;124;43m4217\u001b[39;49m\u001b[38;5;124;43m\"\u001b[39;49m\u001b[43m]\u001b[49m[alpha_3] \u001b[38;5;241m=\u001b[39m country\n\u001b[1;32m     12\u001b[0m output_filename \u001b[38;5;241m=\u001b[39m \u001b[38;5;124m\"\u001b[39m\u001b[38;5;124mcountry_code_mappings\u001b[39m\u001b[38;5;124m\"\u001b[39m\n",
      "\u001b[0;31mKeyError\u001b[0m: '4217'"
     ]
    }
   ],
   "source": [
    "# Countries\n",
    "# Construct new data structure\n",
    "\n",
    "countries = data[\"countries\"]\n",
    "\n",
    "output_data = {\"countries\": {}}\n",
    "\n",
    "for country in countries:\n",
    "    alpha_3 = country[\"3166-1_alpha_2\"]\n",
    "    output_data[\"countries\"][alpha_3] = country\n",
    "\n",
    "output_filename = \"country_code_mappings\""
   ]
  },
  {
   "cell_type": "code",
   "execution_count": 11,
   "metadata": {},
   "outputs": [],
   "source": [
    "# general\n",
    "# Save file\n",
    "\n",
    "output_file = os.path.join(output_dir, f\"{output_filename}.json\")\n",
    "\n",
    "with open(output_file, \"w\") as f:\n",
    "    json.dump(output_data, f, indent=2)"
   ]
  }
 ],
 "metadata": {
  "kernelspec": {
   "display_name": "Python 3",
   "language": "python",
   "name": "python3"
  },
  "language_info": {
   "codemirror_mode": {
    "name": "ipython",
    "version": 3
   },
   "file_extension": ".py",
   "mimetype": "text/x-python",
   "name": "python",
   "nbconvert_exporter": "python",
   "pygments_lexer": "ipython3",
   "version": "3.10.12"
  }
 },
 "nbformat": 4,
 "nbformat_minor": 2
}
