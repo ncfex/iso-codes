{
 "cells": [
  {
   "cell_type": "code",
   "execution_count": 1,
   "metadata": {},
   "outputs": [],
   "source": [
    "import json\n",
    "import os\n",
    "\n",
    "data_dir = \"data\"\n",
    "\n",
    "output_dir = \"output\"\n",
    "\n",
    "if not os.path.exists(output_dir):\n",
    "    os.makedirs(output_dir)"
   ]
  },
  {
   "cell_type": "code",
   "execution_count": null,
   "metadata": {},
   "outputs": [],
   "source": [
    "# Countries\n",
    "\n",
    "input_filename = 'countries.json'"
   ]
  },
  {
   "cell_type": "code",
   "execution_count": 2,
   "metadata": {},
   "outputs": [],
   "source": [
    "# Currency codes\n",
    "\n",
    "input_filename = 'currency_codes.json'"
   ]
  },
  {
   "cell_type": "code",
   "execution_count": 3,
   "metadata": {},
   "outputs": [],
   "source": [
    "input_file = os.path.join(data_dir, input_filename)\n",
    "\n",
    "with open(input_file, \"r\") as f:\n",
    "    data = json.load(f)"
   ]
  },
  {
   "cell_type": "code",
   "execution_count": null,
   "metadata": {},
   "outputs": [],
   "source": [
    "# Rename and remove variables\n",
    "\n",
    "countries = data[\"countries\"][\"country\"]\n",
    "\n",
    "output_filename = \"3166-1_to_4217\"\n",
    "\n",
    "key_mapping = {\n",
    "    \"countryCode\": \"3166-1_alpha_2\",\n",
    "    \"countryName\": \"3166-1_name\",\n",
    "    \"currencyCode\": \"4217_alpha_3\"\n",
    "}\n",
    "\n",
    "filtered_countries = [{key_mapping.get(key, key): value for key, value in country.items() if key not in {\"capital\", \"continentName\", \"population\"}} for country in countries]\n",
    "\n",
    "output_data = {\"countries\": filtered_countries}"
   ]
  },
  {
   "cell_type": "code",
   "execution_count": 6,
   "metadata": {},
   "outputs": [],
   "source": [
    "# Construct new data structure\n",
    "\n",
    "currency_codes = data[\"4217\"]\n",
    "\n",
    "output_data = {\"4217\": {}}\n",
    "\n",
    "for currency in currency_codes:\n",
    "    alpha_3 = currency[\"alpha_3\"]\n",
    "    output_data[\"4217\"][alpha_3] = currency\n",
    "\n",
    "output_filename = \"currency_code_mappings\""
   ]
  },
  {
   "cell_type": "code",
   "execution_count": 8,
   "metadata": {},
   "outputs": [],
   "source": [
    "# Save file\n",
    "\n",
    "output_file = os.path.join(output_dir, f\"{output_filename}.json\")\n",
    "\n",
    "with open(output_file, \"w\") as f:\n",
    "    json.dump(output_data, f, indent=2)"
   ]
  }
 ],
 "metadata": {
  "kernelspec": {
   "display_name": "Python 3",
   "language": "python",
   "name": "python3"
  },
  "language_info": {
   "codemirror_mode": {
    "name": "ipython",
    "version": 3
   },
   "file_extension": ".py",
   "mimetype": "text/x-python",
   "name": "python",
   "nbconvert_exporter": "python",
   "pygments_lexer": "ipython3",
   "version": "3.10.12"
  }
 },
 "nbformat": 4,
 "nbformat_minor": 2
}
