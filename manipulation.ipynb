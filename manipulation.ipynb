{
 "cells": [
  {
   "cell_type": "code",
   "execution_count": null,
   "metadata": {},
   "outputs": [],
   "source": [
    "import json\n",
    "import os\n",
    "\n",
    "data_dir = \"data\"\n",
    "\n",
    "output_dir = \"output\"\n",
    "if not os.path.exists(output_dir):\n",
    "    os.makedirs(output_dir)\n",
    "\n",
    "countries_file = os.path.join(data_dir, \"countries.json\")\n",
    "\n",
    "with open(countries_file, \"r\") as f:\n",
    "    data = json.load(f)"
   ]
  },
  {
   "cell_type": "code",
   "execution_count": null,
   "metadata": {},
   "outputs": [],
   "source": [
    "countries = data[\"countries\"][\"country\"]\n",
    "\n",
    "output_filename = \"3166-1_to_4217\"\n",
    "\n",
    "key_mapping = {\n",
    "    \"countryCode\": \"3166-1_alpha_2\",\n",
    "    \"countryName\": \"3166-1_name\",\n",
    "    \"currencyCode\": \"4217_alpha_3\"\n",
    "}\n",
    "\n",
    "filtered_countries = [{key_mapping.get(key, key): value for key, value in country.items() if key not in {\"capital\", \"continentName\", \"population\"}} for country in countries]\n",
    "\n",
    "output_data = {\"countries\": filtered_countries}\n",
    "\n",
    "output_file = os.path.join(output_dir, f\"{output_filename}.json\")\n",
    "\n",
    "with open(output_file, \"w\") as f:\n",
    "    json.dump(output_data, f, indent=2)"
   ]
  }
 ],
 "metadata": {
  "kernelspec": {
   "display_name": "Python 3",
   "language": "python",
   "name": "python3"
  },
  "language_info": {
   "codemirror_mode": {
    "name": "ipython",
    "version": 3
   },
   "file_extension": ".py",
   "mimetype": "text/x-python",
   "name": "python",
   "nbconvert_exporter": "python",
   "pygments_lexer": "ipython3",
   "version": "3.10.12"
  }
 },
 "nbformat": 4,
 "nbformat_minor": 2
}
